{
 "cells": [
  {
   "cell_type": "code",
   "execution_count": null,
   "id": "56a42650",
   "metadata": {},
   "outputs": [
    {
     "name": "stderr",
     "output_type": "stream",
     "text": [
      "[nltk_data] Downloading package punkt_tab to\n",
      "[nltk_data]     C:\\Users\\Raunak.Ravi\\AppData\\Roaming\\nltk_data...\n",
      "[nltk_data]   Package punkt_tab is already up-to-date!\n"
     ]
    }
   ],
   "source": [
    "# Importing all the libraries to be used\n",
    "import warnings\n",
    "import matplotlib.pyplot as plt\n",
    "import seaborn as sns\n",
    "import numpy as np \n",
    "import pandas as pd\n",
    "import re\n",
    "import nltk\n",
    "from nltk.corpus import stopwords\n",
    "from nltk.stem import WordNetLemmatizer\n",
    "from sklearn.feature_extraction.text import CountVectorizer\n",
    "nltk.download('punkt_tab')\n",
    "from sklearn.model_selection import train_test_split\n",
    "from sklearn.naive_bayes import MultinomialNB\n",
    "from sklearn.ensemble import RandomForestClassifier\n",
    "from sklearn.neighbors import KNeighborsClassifier\n",
    "from sklearn.svm import SVC\n",
    "from sklearn.model_selection import cross_val_score\n",
    "from matplotlib.colors import ListedColormap\n",
    "from sklearn.metrics import precision_score, recall_score, ConfusionMatrixDisplay, accuracy_score, f1_score,roc_auc_score,confusion_matrix, classification_report\n",
    "from sklearn import metrics,preprocessing\n",
    "from sklearn.linear_model import LogisticRegression\n",
    "warnings.filterwarnings('ignore')"
   ]
  },
  {
   "cell_type": "markdown",
   "id": "f8bdd40f",
   "metadata": {},
   "source": [
    "### Data Ingestion"
   ]
  },
  {
   "cell_type": "markdown",
   "id": "18e6a576",
   "metadata": {},
   "source": [
    "Dataset link:- https://doi.org/10.24432/C5CC84"
   ]
  },
  {
   "cell_type": "code",
   "execution_count": 2,
   "id": "79634ec3",
   "metadata": {},
   "outputs": [
    {
     "name": "stdout",
     "output_type": "stream",
     "text": [
      "<class 'pandas.core.frame.DataFrame'>\n",
      "RangeIndex: 5572 entries, 0 to 5571\n",
      "Data columns (total 2 columns):\n",
      " #   Column  Non-Null Count  Dtype \n",
      "---  ------  --------------  ----- \n",
      " 0   Target  5572 non-null   object\n",
      " 1   Text    5572 non-null   object\n",
      "dtypes: object(2)\n",
      "memory usage: 87.2+ KB\n"
     ]
    },
    {
     "data": {
      "text/html": [
       "<div>\n",
       "<style scoped>\n",
       "    .dataframe tbody tr th:only-of-type {\n",
       "        vertical-align: middle;\n",
       "    }\n",
       "\n",
       "    .dataframe tbody tr th {\n",
       "        vertical-align: top;\n",
       "    }\n",
       "\n",
       "    .dataframe thead th {\n",
       "        text-align: right;\n",
       "    }\n",
       "</style>\n",
       "<table border=\"1\" class=\"dataframe\">\n",
       "  <thead>\n",
       "    <tr style=\"text-align: right;\">\n",
       "      <th></th>\n",
       "      <th>Target</th>\n",
       "      <th>Text</th>\n",
       "    </tr>\n",
       "  </thead>\n",
       "  <tbody>\n",
       "    <tr>\n",
       "      <th>0</th>\n",
       "      <td>ham</td>\n",
       "      <td>Go until jurong point, crazy.. Available only ...</td>\n",
       "    </tr>\n",
       "    <tr>\n",
       "      <th>1</th>\n",
       "      <td>ham</td>\n",
       "      <td>Ok lar... Joking wif u oni...</td>\n",
       "    </tr>\n",
       "    <tr>\n",
       "      <th>2</th>\n",
       "      <td>spam</td>\n",
       "      <td>Free entry in 2 a wkly comp to win FA Cup fina...</td>\n",
       "    </tr>\n",
       "    <tr>\n",
       "      <th>3</th>\n",
       "      <td>ham</td>\n",
       "      <td>U dun say so early hor... U c already then say...</td>\n",
       "    </tr>\n",
       "    <tr>\n",
       "      <th>4</th>\n",
       "      <td>ham</td>\n",
       "      <td>Nah I don't think he goes to usf, he lives aro...</td>\n",
       "    </tr>\n",
       "  </tbody>\n",
       "</table>\n",
       "</div>"
      ],
      "text/plain": [
       "  Target                                               Text\n",
       "0    ham  Go until jurong point, crazy.. Available only ...\n",
       "1    ham                      Ok lar... Joking wif u oni...\n",
       "2   spam  Free entry in 2 a wkly comp to win FA Cup fina...\n",
       "3    ham  U dun say so early hor... U c already then say...\n",
       "4    ham  Nah I don't think he goes to usf, he lives aro..."
      ]
     },
     "metadata": {},
     "output_type": "display_data"
    }
   ],
   "source": [
    "#Loading data\n",
    "df = pd.read_csv(\"spam.csv\",on_bad_lines='skip',encoding='latin-1')\n",
    "df.rename(columns = {\"v1\":\"Target\", \"v2\":\"Text\"}, inplace = True)\n",
    "df.drop(columns=[ 'Unnamed: 2', 'Unnamed: 3', 'Unnamed: 4'],inplace=True)\n",
    "df.info();display(df.head())"
   ]
  },
  {
   "cell_type": "markdown",
   "id": "c5451af3",
   "metadata": {},
   "source": [
    "### EDA, DATA EXPLORATION"
   ]
  },
  {
   "cell_type": "code",
   "execution_count": 3,
   "id": "307d4d9e",
   "metadata": {},
   "outputs": [
    {
     "data": {
      "text/plain": [
       "Text(0, 0.5, 'Number of Data points')"
      ]
     },
     "execution_count": 3,
     "metadata": {},
     "output_type": "execute_result"
    },
    {
     "data": {
      "image/png": "[encoded data removed]",
      "text/plain": [
       "<Figure size 1200x500 with 1 Axes>"
      ]
     },
     "metadata": {},
     "output_type": "display_data"
    }
   ],
   "source": [
    "# Palette\n",
    "cols= [\"#E1F16B\", \"#E598D8\"] \n",
    "# first of all let us evaluate the target and find out if our data is imbalanced or not\n",
    "plt.figure(figsize=(12,5))\n",
    "fg = sns.countplot(x= df[\"Target\"], palette= cols)\n",
    "fg.set_title(\"Count Plot of Classes\", color=\"#58508d\")\n",
    "fg.set_xlabel(\"Classes\", color=\"#58508d\")\n",
    "fg.set_ylabel(\"Number of Data points\", color=\"#58508d\")"
   ]
  },
  {
   "cell_type": "code",
   "execution_count": 4,
   "id": "3211bbba",
   "metadata": {},
   "outputs": [
    {
     "data": {
      "text/html": [
       "<div>\n",
       "<style scoped>\n",
       "    .dataframe tbody tr th:only-of-type {\n",
       "        vertical-align: middle;\n",
       "    }\n",
       "\n",
       "    .dataframe tbody tr th {\n",
       "        vertical-align: top;\n",
       "    }\n",
       "\n",
       "    .dataframe thead th {\n",
       "        text-align: right;\n",
       "    }\n",
       "</style>\n",
       "<table border=\"1\" class=\"dataframe\">\n",
       "  <thead>\n",
       "    <tr style=\"text-align: right;\">\n",
       "      <th></th>\n",
       "      <th>count</th>\n",
       "      <th>unique</th>\n",
       "      <th>top</th>\n",
       "      <th>freq</th>\n",
       "    </tr>\n",
       "  </thead>\n",
       "  <tbody>\n",
       "    <tr>\n",
       "      <th>Target</th>\n",
       "      <td>5572</td>\n",
       "      <td>2</td>\n",
       "      <td>ham</td>\n",
       "      <td>4825</td>\n",
       "    </tr>\n",
       "    <tr>\n",
       "      <th>Text</th>\n",
       "      <td>5572</td>\n",
       "      <td>5169</td>\n",
       "      <td>Sorry, I'll call later</td>\n",
       "      <td>30</td>\n",
       "    </tr>\n",
       "  </tbody>\n",
       "</table>\n",
       "</div>"
      ],
      "text/plain": [
       "       count unique                     top  freq\n",
       "Target  5572      2                     ham  4825\n",
       "Text    5572   5169  Sorry, I'll call later    30"
      ]
     },
     "execution_count": 4,
     "metadata": {},
     "output_type": "execute_result"
    }
   ],
   "source": [
    "df.describe().T"
   ]
  },
  {
   "cell_type": "code",
   "execution_count": 5,
   "id": "9ee5c1ee",
   "metadata": {},
   "outputs": [
    {
     "data": {
      "text/plain": [
       "array(['ham', 'spam'], dtype=object)"
      ]
     },
     "execution_count": 5,
     "metadata": {},
     "output_type": "execute_result"
    }
   ],
   "source": [
    "df['Target'].unique()"
   ]
  },
  {
   "cell_type": "code",
   "execution_count": 6,
   "id": "34a26ea9",
   "metadata": {},
   "outputs": [],
   "source": [
    "#Label encode the Target and use it as y\n",
    "label_encoder = preprocessing.LabelEncoder()\n",
    "df['Target'] = label_encoder.fit_transform(df[\"Target\"])"
   ]
  },
  {
   "cell_type": "code",
   "execution_count": 7,
   "id": "a3ef0a3e",
   "metadata": {},
   "outputs": [
    {
     "data": {
      "text/html": [
       "<div>\n",
       "<style scoped>\n",
       "    .dataframe tbody tr th:only-of-type {\n",
       "        vertical-align: middle;\n",
       "    }\n",
       "\n",
       "    .dataframe tbody tr th {\n",
       "        vertical-align: top;\n",
       "    }\n",
       "\n",
       "    .dataframe thead th {\n",
       "        text-align: right;\n",
       "    }\n",
       "</style>\n",
       "<table border=\"1\" class=\"dataframe\">\n",
       "  <thead>\n",
       "    <tr style=\"text-align: right;\">\n",
       "      <th></th>\n",
       "      <th>Target</th>\n",
       "      <th>Text</th>\n",
       "    </tr>\n",
       "  </thead>\n",
       "  <tbody>\n",
       "    <tr>\n",
       "      <th>0</th>\n",
       "      <td>0</td>\n",
       "      <td>Go until jurong point, crazy.. Available only ...</td>\n",
       "    </tr>\n",
       "    <tr>\n",
       "      <th>1</th>\n",
       "      <td>0</td>\n",
       "      <td>Ok lar... Joking wif u oni...</td>\n",
       "    </tr>\n",
       "    <tr>\n",
       "      <th>2</th>\n",
       "      <td>1</td>\n",
       "      <td>Free entry in 2 a wkly comp to win FA Cup fina...</td>\n",
       "    </tr>\n",
       "    <tr>\n",
       "      <th>3</th>\n",
       "      <td>0</td>\n",
       "      <td>U dun say so early hor... U c already then say...</td>\n",
       "    </tr>\n",
       "    <tr>\n",
       "      <th>4</th>\n",
       "      <td>0</td>\n",
       "      <td>Nah I don't think he goes to usf, he lives aro...</td>\n",
       "    </tr>\n",
       "  </tbody>\n",
       "</table>\n",
       "</div>"
      ],
      "text/plain": [
       "   Target                                               Text\n",
       "0       0  Go until jurong point, crazy.. Available only ...\n",
       "1       0                      Ok lar... Joking wif u oni...\n",
       "2       1  Free entry in 2 a wkly comp to win FA Cup fina...\n",
       "3       0  U dun say so early hor... U c already then say...\n",
       "4       0  Nah I don't think he goes to usf, he lives aro..."
      ]
     },
     "execution_count": 7,
     "metadata": {},
     "output_type": "execute_result"
    }
   ],
   "source": [
    "df.head()"
   ]
  },
  {
   "cell_type": "code",
   "execution_count": 8,
   "id": "fa0c9d3f",
   "metadata": {},
   "outputs": [],
   "source": [
    "# splitting the data into train and test sets\n",
    "train_data,test_data = train_test_split(df,test_size=0.2,random_state=43)"
   ]
  },
  {
   "cell_type": "markdown",
   "id": "9af4f1b4",
   "metadata": {},
   "source": [
    "### Data Preprocessing"
   ]
  },
  {
   "cell_type": "markdown",
   "id": "618e0b1d",
   "metadata": {},
   "source": [
    "##### Lemmatization\n",
    "- Stemming:- is the process of getting the root form of a word. Stem or root is the part to which inflectional affixes are added. The stem of a word is created by removing the prefix or suffix of a word. It goes back to the etymology of the word. Languages evolve over time. Many different languages branch into each other; for example, English is a derivative of Latin. Thus, stemming a word takes it back to the root word.\n",
    "\n",
    "- lemmatization:- also converts a word to its root form. However, the difference is that lemmatization ensures that the root word belongs to the language one is dealing with, in our case it is English. If we use lemmatization the output would be in English."
   ]
  },
  {
   "cell_type": "markdown",
   "id": "e9ac3e4f",
   "metadata": {},
   "source": [
    "##### Stopwords\n",
    "Stopwords are frequently occurring words(such as few, is, an, etc). These words hold meaning in sentence structure, but do not contribute much to language processing in NLP. For the purpose of removing redundancy in our processing, I am removing those. NLTK library has a set of default stopwords that we will be removing."
   ]
  },
  {
   "cell_type": "code",
   "execution_count": 12,
   "id": "cbb035f8",
   "metadata": {},
   "outputs": [
    {
     "name": "stderr",
     "output_type": "stream",
     "text": [
      "[nltk_data] Downloading package wordnet to\n",
      "[nltk_data]     C:\\Users\\Raunak.Ravi\\AppData\\Roaming\\nltk_data...\n",
      "[nltk_data]   Package wordnet is already up-to-date!\n",
      "[nltk_data] Downloading package stopwords to\n",
      "[nltk_data]     C:\\Users\\Raunak.Ravi\\AppData\\Roaming\\nltk_data...\n",
      "[nltk_data]   Package stopwords is already up-to-date!\n"
     ]
    }
   ],
   "source": [
    "nltk.download('wordnet')\n",
    "nltk.download('stopwords')\n",
    "\n",
    "def lemmatization(text):\n",
    "    lemmatizer= WordNetLemmatizer()\n",
    "\n",
    "    text = text.split()\n",
    "\n",
    "    text=[lemmatizer.lemmatize(y) for y in text]\n",
    "\n",
    "    return \" \" .join(text)\n",
    "\n",
    "def remove_stop_words(text):\n",
    "    stop_words = set(stopwords.words(\"english\"))\n",
    "    Text=[i for i in str(text).split() if i not in stop_words]\n",
    "    return \" \".join(Text)\n",
    "\n",
    "def removing_numbers(text):\n",
    "    text=''.join([i for i in text if not i.isdigit()])\n",
    "    return text\n",
    "\n",
    "def lower_case(text):\n",
    "\n",
    "    text = text.split()\n",
    "\n",
    "    text=[y.lower() for y in text]\n",
    "\n",
    "    return \" \" .join(text)\n",
    "\n",
    "def removing_punctuations(text):\n",
    "    ## Remove punctuations\n",
    "    text = re.sub('[%s]' % re.escape(\"\"\"!\"#$%&'()*+,،-./:;<=>؟?@[\\]^_`{|}~\"\"\"), ' ', text)\n",
    "    text = text.replace('؛',\"\", )\n",
    "\n",
    "    ## remove extra whitespace\n",
    "    text = re.sub('\\s+', ' ', text)\n",
    "    text =  \" \".join(text.split())\n",
    "    return text.strip()\n",
    "\n",
    "def removing_urls(text):\n",
    "    url_pattern = re.compile(r'https?://\\S+|www\\.\\S+')\n",
    "    return url_pattern.sub(r'', text)\n",
    "\n",
    "def remove_small_sentences(df):\n",
    "    for i in range(len(df)):\n",
    "        if len(df.text.iloc[i].split()) < 3:\n",
    "            df.text.iloc[i] = np.nan\n",
    "\n",
    "def normalize_text(df):\n",
    "    df.Text=df.Text.apply(lambda Text : lower_case(Text))\n",
    "    df.Text=df.Text.apply(lambda Text : remove_stop_words(Text))\n",
    "    df.Text=df.Text.apply(lambda Text : removing_numbers(Text))\n",
    "    df.Text=df.Text.apply(lambda Text : removing_punctuations(Text))\n",
    "    df.Text=df.Text.apply(lambda Text : removing_urls(Text))\n",
    "    df.Text=df.Text.apply(lambda Text : lemmatization(Text))\n",
    "    return df\n",
    "\n",
    "def normalized_sentence(sentence):\n",
    "    sentence= lower_case(sentence)\n",
    "    sentence= remove_stop_words(sentence)\n",
    "    sentence= removing_numbers(sentence)\n",
    "    sentence= removing_punctuations(sentence)\n",
    "    sentence= removing_urls(sentence)\n",
    "    sentence= lemmatization(sentence)\n",
    "    return sentence"
   ]
  },
  {
   "cell_type": "code",
   "execution_count": 10,
   "id": "e2e9d6da",
   "metadata": {},
   "outputs": [
    {
     "data": {
      "text/plain": [
       "'that s it done already one'"
      ]
     },
     "execution_count": 10,
     "metadata": {},
     "output_type": "execute_result"
    }
   ],
   "source": [
    "normalized_sentence(\"That's it? It's done already? This is one\")"
   ]
  },
  {
   "cell_type": "code",
   "execution_count": 13,
   "id": "2f043832",
   "metadata": {},
   "outputs": [],
   "source": [
    "train_data = normalize_text(train_data)\n",
    "test_data = normalize_text(test_data)"
   ]
  },
  {
   "cell_type": "code",
   "execution_count": 14,
   "id": "cc938534",
   "metadata": {},
   "outputs": [
    {
     "data": {
      "text/plain": [
       "(4457, 2)"
      ]
     },
     "metadata": {},
     "output_type": "display_data"
    },
    {
     "data": {
      "text/plain": [
       "(1115, 2)"
      ]
     },
     "metadata": {},
     "output_type": "display_data"
    }
   ],
   "source": [
    "display(train_data.shape)\n",
    "display(test_data.shape)"
   ]
  },
  {
   "cell_type": "code",
   "execution_count": 15,
   "id": "aa0b3d09",
   "metadata": {},
   "outputs": [
    {
     "data": {
      "text/html": [
       "<div>\n",
       "<style scoped>\n",
       "    .dataframe tbody tr th:only-of-type {\n",
       "        vertical-align: middle;\n",
       "    }\n",
       "\n",
       "    .dataframe tbody tr th {\n",
       "        vertical-align: top;\n",
       "    }\n",
       "\n",
       "    .dataframe thead th {\n",
       "        text-align: right;\n",
       "    }\n",
       "</style>\n",
       "<table border=\"1\" class=\"dataframe\">\n",
       "  <thead>\n",
       "    <tr style=\"text-align: right;\">\n",
       "      <th></th>\n",
       "      <th>Target</th>\n",
       "      <th>Text</th>\n",
       "    </tr>\n",
       "  </thead>\n",
       "  <tbody>\n",
       "    <tr>\n",
       "      <th>424</th>\n",
       "      <td>0</td>\n",
       "      <td>send ur friend receive something ur voice spea...</td>\n",
       "    </tr>\n",
       "    <tr>\n",
       "      <th>587</th>\n",
       "      <td>0</td>\n",
       "      <td>pete please ring meive hardly gotany credit</td>\n",
       "    </tr>\n",
       "    <tr>\n",
       "      <th>4024</th>\n",
       "      <td>0</td>\n",
       "      <td>lt gt mca conform</td>\n",
       "    </tr>\n",
       "    <tr>\n",
       "      <th>3941</th>\n",
       "      <td>0</td>\n",
       "      <td>borderline yeah whatever</td>\n",
       "    </tr>\n",
       "    <tr>\n",
       "      <th>5440</th>\n",
       "      <td>0</td>\n",
       "      <td>thank you generally date brothas</td>\n",
       "    </tr>\n",
       "  </tbody>\n",
       "</table>\n",
       "</div>"
      ],
      "text/plain": [
       "      Target                                               Text\n",
       "424        0  send ur friend receive something ur voice spea...\n",
       "587        0        pete please ring meive hardly gotany credit\n",
       "4024       0                                  lt gt mca conform\n",
       "3941       0                           borderline yeah whatever\n",
       "5440       0                   thank you generally date brothas"
      ]
     },
     "execution_count": 15,
     "metadata": {},
     "output_type": "execute_result"
    }
   ],
   "source": [
    "train_data.head()"
   ]
  },
  {
   "cell_type": "markdown",
   "id": "5882956b",
   "metadata": {},
   "source": [
    "### feature engineering"
   ]
  },
  {
   "cell_type": "code",
   "execution_count": 16,
   "id": "61bafc00",
   "metadata": {},
   "outputs": [],
   "source": [
    "# Splitting the data into features and target variable\n",
    "X_train = train_data['Text'].values\n",
    "y_train = train_data['Target'].values\n",
    "\n",
    "X_test = test_data['Text'].values\n",
    "y_test = test_data['Target'].values"
   ]
  },
  {
   "cell_type": "markdown",
   "id": "6efd6cbb",
   "metadata": {},
   "source": [
    "#### VECTORIZE\n",
    "TF-IDF in NLP stands for Term Frequency – Inverse document frequency. In NLP cleaned data needs to be converted into a numerical format where each word is represented by a matrix. This is also known as word embedding or Word vectorization.\n",
    "\n",
    "* Term Frequency (TF) = (Frequency of a term in the document)/(Total number of terms in documents) Inverse Document Frequency(IDF) = log( (total number of documents)/(number of documents with term t)) I will be using TfidfVectorizer() to vectorize the preprocessed data.\n",
    "\n",
    "Steps in the Vectorizing:\n",
    "\n",
    "- Creating a corpus of lemmatized text\n",
    "- Converting the corpus in vector form\n",
    "- Label Encoding the classes in Target\n",
    "Note: So far we have been stalking up columns in our data for the purpose of explanation"
   ]
  },
  {
   "cell_type": "code",
   "execution_count": 21,
   "id": "69cc9c9b",
   "metadata": {},
   "outputs": [],
   "source": [
    "# Apply Bag of Words (CountVectorizer)\n",
    "vectorizer = CountVectorizer()\n",
    "\n",
    "# Fit the vectorizer on the training data and transform it\n",
    "X_train_bow = vectorizer.fit_transform(X_train)\n",
    "\n",
    "# Transform the test data using the same vectorizer\n",
    "X_test_bow = vectorizer.transform(X_test)"
   ]
  },
  {
   "cell_type": "code",
   "execution_count": 23,
   "id": "ec37fda6",
   "metadata": {},
   "outputs": [
    {
     "data": {
      "text/html": [
       "<div>\n",
       "<style scoped>\n",
       "    .dataframe tbody tr th:only-of-type {\n",
       "        vertical-align: middle;\n",
       "    }\n",
       "\n",
       "    .dataframe tbody tr th {\n",
       "        vertical-align: top;\n",
       "    }\n",
       "\n",
       "    .dataframe thead th {\n",
       "        text-align: right;\n",
       "    }\n",
       "</style>\n",
       "<table border=\"1\" class=\"dataframe\">\n",
       "  <thead>\n",
       "    <tr style=\"text-align: right;\">\n",
       "      <th></th>\n",
       "      <th>0</th>\n",
       "      <th>1</th>\n",
       "      <th>2</th>\n",
       "      <th>3</th>\n",
       "      <th>4</th>\n",
       "      <th>5</th>\n",
       "      <th>6</th>\n",
       "      <th>7</th>\n",
       "      <th>8</th>\n",
       "      <th>9</th>\n",
       "      <th>...</th>\n",
       "      <th>6392</th>\n",
       "      <th>6393</th>\n",
       "      <th>6394</th>\n",
       "      <th>6395</th>\n",
       "      <th>6396</th>\n",
       "      <th>6397</th>\n",
       "      <th>6398</th>\n",
       "      <th>6399</th>\n",
       "      <th>6400</th>\n",
       "      <th>label</th>\n",
       "    </tr>\n",
       "  </thead>\n",
       "  <tbody>\n",
       "    <tr>\n",
       "      <th>0</th>\n",
       "      <td>0</td>\n",
       "      <td>0</td>\n",
       "      <td>0</td>\n",
       "      <td>0</td>\n",
       "      <td>0</td>\n",
       "      <td>0</td>\n",
       "      <td>0</td>\n",
       "      <td>0</td>\n",
       "      <td>0</td>\n",
       "      <td>0</td>\n",
       "      <td>...</td>\n",
       "      <td>0</td>\n",
       "      <td>0</td>\n",
       "      <td>0</td>\n",
       "      <td>0</td>\n",
       "      <td>0</td>\n",
       "      <td>0</td>\n",
       "      <td>0</td>\n",
       "      <td>0</td>\n",
       "      <td>0</td>\n",
       "      <td>0</td>\n",
       "    </tr>\n",
       "    <tr>\n",
       "      <th>1</th>\n",
       "      <td>0</td>\n",
       "      <td>0</td>\n",
       "      <td>0</td>\n",
       "      <td>0</td>\n",
       "      <td>0</td>\n",
       "      <td>0</td>\n",
       "      <td>0</td>\n",
       "      <td>0</td>\n",
       "      <td>0</td>\n",
       "      <td>0</td>\n",
       "      <td>...</td>\n",
       "      <td>0</td>\n",
       "      <td>0</td>\n",
       "      <td>0</td>\n",
       "      <td>0</td>\n",
       "      <td>0</td>\n",
       "      <td>0</td>\n",
       "      <td>0</td>\n",
       "      <td>0</td>\n",
       "      <td>0</td>\n",
       "      <td>0</td>\n",
       "    </tr>\n",
       "    <tr>\n",
       "      <th>2</th>\n",
       "      <td>0</td>\n",
       "      <td>0</td>\n",
       "      <td>0</td>\n",
       "      <td>0</td>\n",
       "      <td>0</td>\n",
       "      <td>0</td>\n",
       "      <td>0</td>\n",
       "      <td>0</td>\n",
       "      <td>0</td>\n",
       "      <td>0</td>\n",
       "      <td>...</td>\n",
       "      <td>0</td>\n",
       "      <td>0</td>\n",
       "      <td>0</td>\n",
       "      <td>0</td>\n",
       "      <td>0</td>\n",
       "      <td>0</td>\n",
       "      <td>0</td>\n",
       "      <td>0</td>\n",
       "      <td>0</td>\n",
       "      <td>0</td>\n",
       "    </tr>\n",
       "    <tr>\n",
       "      <th>3</th>\n",
       "      <td>0</td>\n",
       "      <td>0</td>\n",
       "      <td>0</td>\n",
       "      <td>0</td>\n",
       "      <td>0</td>\n",
       "      <td>0</td>\n",
       "      <td>0</td>\n",
       "      <td>0</td>\n",
       "      <td>0</td>\n",
       "      <td>0</td>\n",
       "      <td>...</td>\n",
       "      <td>0</td>\n",
       "      <td>0</td>\n",
       "      <td>0</td>\n",
       "      <td>0</td>\n",
       "      <td>0</td>\n",
       "      <td>0</td>\n",
       "      <td>0</td>\n",
       "      <td>0</td>\n",
       "      <td>0</td>\n",
       "      <td>0</td>\n",
       "    </tr>\n",
       "    <tr>\n",
       "      <th>4</th>\n",
       "      <td>0</td>\n",
       "      <td>0</td>\n",
       "      <td>0</td>\n",
       "      <td>0</td>\n",
       "      <td>0</td>\n",
       "      <td>0</td>\n",
       "      <td>0</td>\n",
       "      <td>0</td>\n",
       "      <td>0</td>\n",
       "      <td>0</td>\n",
       "      <td>...</td>\n",
       "      <td>0</td>\n",
       "      <td>0</td>\n",
       "      <td>0</td>\n",
       "      <td>0</td>\n",
       "      <td>0</td>\n",
       "      <td>0</td>\n",
       "      <td>0</td>\n",
       "      <td>0</td>\n",
       "      <td>0</td>\n",
       "      <td>0</td>\n",
       "    </tr>\n",
       "  </tbody>\n",
       "</table>\n",
       "<p>5 rows × 6402 columns</p>\n",
       "</div>"
      ],
      "text/plain": [
       "   0  1  2  3  4  5  6  7  8  9  ...  6392  6393  6394  6395  6396  6397  \\\n",
       "0  0  0  0  0  0  0  0  0  0  0  ...     0     0     0     0     0     0   \n",
       "1  0  0  0  0  0  0  0  0  0  0  ...     0     0     0     0     0     0   \n",
       "2  0  0  0  0  0  0  0  0  0  0  ...     0     0     0     0     0     0   \n",
       "3  0  0  0  0  0  0  0  0  0  0  ...     0     0     0     0     0     0   \n",
       "4  0  0  0  0  0  0  0  0  0  0  ...     0     0     0     0     0     0   \n",
       "\n",
       "   6398  6399  6400  label  \n",
       "0     0     0     0      0  \n",
       "1     0     0     0      0  \n",
       "2     0     0     0      0  \n",
       "3     0     0     0      0  \n",
       "4     0     0     0      0  \n",
       "\n",
       "[5 rows x 6402 columns]"
      ]
     },
     "execution_count": 23,
     "metadata": {},
     "output_type": "execute_result"
    }
   ],
   "source": [
    "train_df = pd.DataFrame(X_train_bow.toarray())\n",
    "\n",
    "train_df['label'] = y_train\n",
    "train_df.head()"
   ]
  },
  {
   "cell_type": "code",
   "execution_count": 24,
   "id": "f53a6f95",
   "metadata": {},
   "outputs": [],
   "source": [
    "#### Model building "
   ]
  },
  {
   "cell_type": "markdown",
   "id": "34d84d63",
   "metadata": {},
   "source": [
    "#### Model building\n",
    "**Steps involved in the Model Building**\n",
    "\n",
    "1. Setting up features and target as X and y\n",
    "2. Splitting the testing and training sets\n",
    "3. Build a pipeline of model for four different classifiers.\n",
    "- Logistic Regression\n",
    "- Naïve Bayes\n",
    "- RandomForestClassifier\n",
    "- KNeighborsClassifier\n",
    "- Support Vector Machines\n",
    "4. Fit all the models on training data\n",
    "5. Get the cross-validation on the training set for all the models for accuracy"
   ]
  },
  {
   "cell_type": "code",
   "execution_count": 26,
   "id": "e13f41ff",
   "metadata": {},
   "outputs": [
    {
     "name": "stdout",
     "output_type": "stream",
     "text": [
      "NaiveBayes: 0.973973 \n",
      "RandomForest: 0.976441 \n",
      "KNeighbours: 0.921916 \n",
      "SVC: 0.975992 \n",
      "LogisticRegg: 0.980705 \n"
     ]
    }
   ],
   "source": [
    "#Testing on the following classifiers\n",
    "classifiers = [MultinomialNB(), \n",
    "               RandomForestClassifier(),\n",
    "               KNeighborsClassifier(), \n",
    "               SVC(),\n",
    "               LogisticRegression()]\n",
    "for cls in classifiers:\n",
    "    cls.fit(X_train_bow, y_train)\n",
    "\n",
    "# Dictionary of pipelines and model types for ease of reference\n",
    "pipe_dict = {0: \"NaiveBayes\", 1: \"RandomForest\", 2: \"KNeighbours\",3: \"SVC\",4:'LogisticRegg'}\n",
    "\n",
    "# Cross-validation \n",
    "for i, model in enumerate(classifiers):\n",
    "    cv_score = cross_val_score(model, X_train_bow,y_train,scoring=\"accuracy\", cv=10)\n",
    "    print(\"%s: %f \" % (pipe_dict[i], cv_score.mean()))"
   ]
  },
  {
   "cell_type": "code",
   "execution_count": 27,
   "id": "a3f89a05",
   "metadata": {},
   "outputs": [],
   "source": [
    "# Model Evaluation\n",
    "# creating lists of varios scores\n",
    "precision =[]\n",
    "recall =[]\n",
    "f1_scores = []\n",
    "trainset_accuracy = []\n",
    "testset_accuracy = []\n",
    "\n",
    "for i in classifiers:\n",
    "    pred_train = i.predict(X_train_bow)\n",
    "    pred_test = i.predict(X_test_bow)\n",
    "    prec = metrics.precision_score(y_test, pred_test)\n",
    "    recal = metrics.recall_score(y_test, pred_test)\n",
    "    f1_s = metrics.f1_score(y_test, pred_test)\n",
    "    train_accuracy = i.score(X_train_bow,y_train)\n",
    "    test_accuracy = i.score(X_test_bow,y_test)\n",
    "  \n",
    "    #Appending scores\n",
    "    precision.append(prec)\n",
    "    recall.append(recal)\n",
    "    f1_scores.append(f1_s)\n",
    "    trainset_accuracy.append(train_accuracy)\n",
    "    testset_accuracy.append(test_accuracy)"
   ]
  },
  {
   "cell_type": "code",
   "execution_count": 28,
   "id": "2e964e4d",
   "metadata": {},
   "outputs": [],
   "source": [
    "# initialise data of lists.\n",
    "data = {'Precision':precision,\n",
    "'Recall':recall,\n",
    "'F1score':f1_scores,\n",
    "'Accuracy on Testset':testset_accuracy,\n",
    "'Accuracy on Trainset':trainset_accuracy}\n",
    "# Creates pandas DataFrame.\n",
    "Results = pd.DataFrame(data, index =[\"NaiveBayes\", \"RandomForest\", \"KNeighbours\",\"SVC\",\"LogisticRegg\"])"
   ]
  },
  {
   "cell_type": "code",
   "execution_count": 29,
   "id": "a1214ae4",
   "metadata": {},
   "outputs": [
    {
     "data": {
      "text/html": [
       "<style type=\"text/css\">\n",
       "#T_aa46c_row0_col0, #T_aa46c_row2_col1, #T_aa46c_row2_col2, #T_aa46c_row2_col3, #T_aa46c_row2_col4, #T_aa46c_row4_col0 {\n",
       "  background-color: #e2ccff;\n",
       "  color: #000000;\n",
       "}\n",
       "#T_aa46c_row0_col1, #T_aa46c_row0_col2, #T_aa46c_row0_col3, #T_aa46c_row0_col4, #T_aa46c_row1_col0, #T_aa46c_row1_col1, #T_aa46c_row1_col2, #T_aa46c_row1_col3, #T_aa46c_row1_col4, #T_aa46c_row2_col0, #T_aa46c_row3_col0, #T_aa46c_row3_col1, #T_aa46c_row3_col2, #T_aa46c_row3_col3, #T_aa46c_row3_col4, #T_aa46c_row4_col1, #T_aa46c_row4_col2, #T_aa46c_row4_col3, #T_aa46c_row4_col4 {\n",
       "  background-color: #e598d8;\n",
       "  color: #000000;\n",
       "}\n",
       "</style>\n",
       "<table id=\"T_aa46c\">\n",
       "  <thead>\n",
       "    <tr>\n",
       "      <th class=\"blank level0\" >&nbsp;</th>\n",
       "      <th id=\"T_aa46c_level0_col0\" class=\"col_heading level0 col0\" >Precision</th>\n",
       "      <th id=\"T_aa46c_level0_col1\" class=\"col_heading level0 col1\" >Recall</th>\n",
       "      <th id=\"T_aa46c_level0_col2\" class=\"col_heading level0 col2\" >F1score</th>\n",
       "      <th id=\"T_aa46c_level0_col3\" class=\"col_heading level0 col3\" >Accuracy on Testset</th>\n",
       "      <th id=\"T_aa46c_level0_col4\" class=\"col_heading level0 col4\" >Accuracy on Trainset</th>\n",
       "    </tr>\n",
       "  </thead>\n",
       "  <tbody>\n",
       "    <tr>\n",
       "      <th id=\"T_aa46c_level0_row0\" class=\"row_heading level0 row0\" >NaiveBayes</th>\n",
       "      <td id=\"T_aa46c_row0_col0\" class=\"data row0 col0\" >0.948052</td>\n",
       "      <td id=\"T_aa46c_row0_col1\" class=\"data row0 col1\" >0.941935</td>\n",
       "      <td id=\"T_aa46c_row0_col2\" class=\"data row0 col2\" >0.944984</td>\n",
       "      <td id=\"T_aa46c_row0_col3\" class=\"data row0 col3\" >0.984753</td>\n",
       "      <td id=\"T_aa46c_row0_col4\" class=\"data row0 col4\" >0.991923</td>\n",
       "    </tr>\n",
       "    <tr>\n",
       "      <th id=\"T_aa46c_level0_row1\" class=\"row_heading level0 row1\" >RandomForest</th>\n",
       "      <td id=\"T_aa46c_row1_col0\" class=\"data row1 col0\" >0.977273</td>\n",
       "      <td id=\"T_aa46c_row1_col1\" class=\"data row1 col1\" >0.832258</td>\n",
       "      <td id=\"T_aa46c_row1_col2\" class=\"data row1 col2\" >0.898955</td>\n",
       "      <td id=\"T_aa46c_row1_col3\" class=\"data row1 col3\" >0.973991</td>\n",
       "      <td id=\"T_aa46c_row1_col4\" class=\"data row1 col4\" >1.000000</td>\n",
       "    </tr>\n",
       "    <tr>\n",
       "      <th id=\"T_aa46c_level0_row2\" class=\"row_heading level0 row2\" >KNeighbours</th>\n",
       "      <td id=\"T_aa46c_row2_col0\" class=\"data row2 col0\" >1.000000</td>\n",
       "      <td id=\"T_aa46c_row2_col1\" class=\"data row2 col1\" >0.400000</td>\n",
       "      <td id=\"T_aa46c_row2_col2\" class=\"data row2 col2\" >0.571429</td>\n",
       "      <td id=\"T_aa46c_row2_col3\" class=\"data row2 col3\" >0.916592</td>\n",
       "      <td id=\"T_aa46c_row2_col4\" class=\"data row2 col4\" >0.938524</td>\n",
       "    </tr>\n",
       "    <tr>\n",
       "      <th id=\"T_aa46c_level0_row3\" class=\"row_heading level0 row3\" >SVC</th>\n",
       "      <td id=\"T_aa46c_row3_col0\" class=\"data row3 col0\" >0.992248</td>\n",
       "      <td id=\"T_aa46c_row3_col1\" class=\"data row3 col1\" >0.825806</td>\n",
       "      <td id=\"T_aa46c_row3_col2\" class=\"data row3 col2\" >0.901408</td>\n",
       "      <td id=\"T_aa46c_row3_col3\" class=\"data row3 col3\" >0.974888</td>\n",
       "      <td id=\"T_aa46c_row3_col4\" class=\"data row3 col4\" >0.995513</td>\n",
       "    </tr>\n",
       "    <tr>\n",
       "      <th id=\"T_aa46c_level0_row4\" class=\"row_heading level0 row4\" >LogisticRegg</th>\n",
       "      <td id=\"T_aa46c_row4_col0\" class=\"data row4 col0\" >0.970803</td>\n",
       "      <td id=\"T_aa46c_row4_col1\" class=\"data row4 col1\" >0.858065</td>\n",
       "      <td id=\"T_aa46c_row4_col2\" class=\"data row4 col2\" >0.910959</td>\n",
       "      <td id=\"T_aa46c_row4_col3\" class=\"data row4 col3\" >0.976682</td>\n",
       "      <td id=\"T_aa46c_row4_col4\" class=\"data row4 col4\" >0.994615</td>\n",
       "    </tr>\n",
       "  </tbody>\n",
       "</table>\n"
      ],
      "text/plain": [
       "<pandas.io.formats.style.Styler at 0x23c3c150b00>"
      ]
     },
     "execution_count": 29,
     "metadata": {},
     "output_type": "execute_result"
    }
   ],
   "source": [
    "cmap2 = ListedColormap([\"#E2CCFF\",\"#E598D8\"])\n",
    "Results.style.background_gradient(cmap=cmap2)"
   ]
  },
  {
   "cell_type": "code",
   "execution_count": 31,
   "id": "c49809a4",
   "metadata": {},
   "outputs": [
    {
     "data": {
      "image/png": "[encoded data removed]",
      "text/plain": [
       "<Figure size 1500x1000 with 11 Axes>"
      ]
     },
     "metadata": {},
     "output_type": "display_data"
    }
   ],
   "source": [
    "cmap = ListedColormap([\"#E1F16B\", \"#E598D8\"])\n",
    "fig, axes = plt.subplots(nrows=3, ncols=2, figsize=(15,10))\n",
    "\n",
    "for cls, ax in zip(classifiers, axes.flatten()):\n",
    "    ConfusionMatrixDisplay.from_estimator(cls, \n",
    "                          X_test_bow, \n",
    "                          y_test, \n",
    "                          ax=ax, \n",
    "                          cmap= cmap,   \n",
    "                          )\n",
    "    ax.title.set_text(type(cls).__name__)\n",
    "plt.tight_layout()  \n",
    "plt.show()"
   ]
  },
  {
   "cell_type": "markdown",
   "id": "16b05674",
   "metadata": {},
   "source": [
    "#### Fitting the Final model and get reports"
   ]
  },
  {
   "cell_type": "markdown",
   "id": "41abb044",
   "metadata": {},
   "source": [
    "##### Model building"
   ]
  },
  {
   "cell_type": "code",
   "execution_count": 34,
   "id": "2e75fd25",
   "metadata": {},
   "outputs": [
    {
     "name": "stdout",
     "output_type": "stream",
     "text": [
      "Accuracy: 0.9766816143497757\n",
      "Classification Report:\n",
      "               precision    recall  f1-score   support\n",
      "\n",
      "           0       0.98      1.00      0.99       960\n",
      "           1       0.97      0.86      0.91       155\n",
      "\n",
      "    accuracy                           0.98      1115\n",
      "   macro avg       0.97      0.93      0.95      1115\n",
      "weighted avg       0.98      0.98      0.98      1115\n",
      "\n"
     ]
    }
   ],
   "source": [
    "# Define and train the XGBoost model\n",
    "final_model = LogisticRegression()\n",
    "final_model.fit(X_train_bow, y_train)\n",
    "\n",
    "# Make predictions\n",
    "y_pred = final_model.predict(X_test_bow)\n",
    "\n",
    "# Evaluate the model\n",
    "accuracy = accuracy_score(y_test, y_pred)\n",
    "classification_rep = classification_report(y_test, y_pred)\n",
    "\n",
    "print(\"Accuracy:\", accuracy)\n",
    "print(\"Classification Report:\\n\", classification_rep)"
   ]
  },
  {
   "cell_type": "markdown",
   "id": "9566e161",
   "metadata": {},
   "source": [
    "##### Model evaluation"
   ]
  },
  {
   "cell_type": "code",
   "execution_count": 35,
   "id": "d6ae5b25",
   "metadata": {},
   "outputs": [],
   "source": [
    "# Make predictions\n",
    "y_pred = final_model.predict(X_test_bow)\n",
    "y_pred_proba = final_model.predict_proba(X_test_bow)[:, 1]\n",
    "\n",
    "# Calculate evaluation metrics\n",
    "precision = precision_score(y_test, y_pred)\n",
    "recall = recall_score(y_test, y_pred)\n",
    "auc = roc_auc_score(y_test, y_pred_proba)"
   ]
  },
  {
   "cell_type": "code",
   "execution_count": 36,
   "id": "4255e89f",
   "metadata": {},
   "outputs": [
    {
     "name": "stdout",
     "output_type": "stream",
     "text": [
      "Precision: 0.9708029197080292\n",
      "Recall: 0.8580645161290322\n",
      "AUC: 0.9906384408602151\n"
     ]
    }
   ],
   "source": [
    "print(f\"Precision: {precision}\")\n",
    "print(f\"Recall: {recall}\")\n",
    "print(f\"AUC: {auc}\")"
   ]
  },
  {
   "cell_type": "code",
   "execution_count": null,
   "id": "77f94570",
   "metadata": {},
   "outputs": [],
   "source": []
  },
  {
   "cell_type": "code",
   "execution_count": null,
   "id": "276f0a2f",
   "metadata": {},
   "outputs": [],
   "source": []
  },
  {
   "cell_type": "code",
   "execution_count": null,
   "id": "e9acae3c",
   "metadata": {},
   "outputs": [],
   "source": []
  }
 ],
 "metadata": {
  "kernelspec": {
   "display_name": "base",
   "language": "python",
   "name": "python3"
  },
  "language_info": {
   "codemirror_mode": {
    "name": "ipython",
    "version": 3
   },
   "file_extension": ".py",
   "mimetype": "text/x-python",
   "name": "python",
   "nbconvert_exporter": "python",
   "pygments_lexer": "ipython3",
   "version": "3.12.9"
  }
 },
 "nbformat": 4,
 "nbformat_minor": 5
}
